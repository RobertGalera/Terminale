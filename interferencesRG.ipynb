{
 "cells": [
  {
   "cell_type": "markdown",
   "metadata": {},
   "source": [
    "# Interférences\n",
    "## Somme de deux signaux sinusoïdaux synchrones"
   ]
  },
  {
   "cell_type": "code",
   "execution_count": null,
   "metadata": {},
   "outputs": [],
   "source": [
    "#Commençons par la représentation d'une sinusoïde\n"
   ]
  },
  {
   "cell_type": "code",
   "execution_count": null,
   "metadata": {},
   "outputs": [],
   "source": [
    "# Import des bibliothèques \n",
    "\n",
    "import numpy as np\n",
    "import matplotlib.pyplot as plt\n",
    "%matplotlib inline"
   ]
  },
  {
   "cell_type": "markdown",
   "metadata": {},
   "source": [
    "Dans un premier temps, on définit une fonction qui prend en paramètre la fréquence, la phase à l'origine et qui dessine la fonction sinus sur un intervalle fixe de 0. à  4𝜋  :"
   ]
  },
  {
   "cell_type": "code",
   "execution_count": null,
   "metadata": {},
   "outputs": [],
   "source": [
    "def sinus(freq,phi):\n",
    "    X = np.linspace(0., 4*np.pi, 200) #200 points dans l'intervalle 0, 4pi\n",
    "    Y = np.sin(freq*X + phi)\n",
    "    plt.plot(X, Y)\n",
    "    plt.grid()"
   ]
  },
  {
   "cell_type": "code",
   "execution_count": null,
   "metadata": {},
   "outputs": [],
   "source": [
    "sinus(1, np.pi)"
   ]
  },
  {
   "cell_type": "code",
   "execution_count": null,
   "metadata": {},
   "outputs": [],
   "source": [
    "def onderesultante(A1, A2, T, phi2,duree,Te):\n",
    "    t=np.arange(0,duree,Te)\n",
    "    s1= A1*np.sin(2*np.pi*t/T)      # on pose phi1=0\n",
    "    s2= A2*np.sin(2*np.pi*t/T+phi2)\n",
    "    s=s1+s2\n",
    "    \n",
    "    plt.figure (figsize = (10,8))\n",
    "    plt.plot(t,s1,\"r+-\",label=\"onde 1\")\n",
    "    plt.plot(t,s2,\"b+-\",label=\"onde 2\")\n",
    "    plt.plot(t,s,\"g+-\",label=\"onde résultante\")\n",
    "    plt.xlabel(\"temps(s)\")\n",
    "    plt.ylabel(\"élongation\")\n",
    "    plt.legend()\n",
    "    plt.grid()\n",
    "    plt.title (\"Interférences de deux ondes\")\n",
    "    plt.show"
   ]
  },
  {
   "cell_type": "code",
   "execution_count": null,
   "metadata": {
    "scrolled": true
   },
   "outputs": [],
   "source": [
    "A1=1\n",
    "A2=1\n",
    "T=2   # période en s\n",
    "phi2 = 1.5*np.pi\n",
    "duree= 8  # durée en s \n",
    "Te= 0.05\n",
    "plt.figure(figsize=(12,8)); \n"
   ]
  },
  {
   "cell_type": "code",
   "execution_count": null,
   "metadata": {},
   "outputs": [],
   "source": [
    "onderesultante(A1,A2,T,phi2,duree,Te)"
   ]
  },
  {
   "cell_type": "code",
   "execution_count": null,
   "metadata": {},
   "outputs": [],
   "source": [
    "#Pour la version interactive, on importe ce dont on a besoin...\n",
    "plt.ion() #mode interactif\n",
    "from ipywidgets import interact\n",
    "\n",
    "#... et on simplifie la fonction\n",
    "\n",
    "def onderesultante2(A2, phi2):\n",
    "    A1=1\n",
    "    Te=0.05\n",
    "    phi1=0\n",
    "    t=np.arange(0,duree,Te)\n",
    "    s1= A1*np.cos(2*np.pi*t/T + phi1)      # on pose phi1=0\n",
    "    s2= A2*np.cos(2*np.pi*t/T+phi2)\n",
    "    s=s1+s2\n",
    "    \n",
    "    plt.figure (figsize = (10,8))\n",
    "    plt.plot(t,s1,\"r+-\",label=\"onde 1\")\n",
    "    plt.plot(t,s2,\"b+-\",label=\"onde 2\")\n",
    "    plt.plot(t,s,\"g+-\",label=\"onde résultante\")\n",
    "    plt.xlabel(\"temps(s)\")\n",
    "    plt.ylabel(\"élongation\")\n",
    "    plt.legend()\n",
    "    plt.grid()\n",
    "    plt.title (\"Interférences de deux ondes\")\n",
    "    plt.show #inutile ici\n"
   ]
  },
  {
   "cell_type": "code",
   "execution_count": null,
   "metadata": {},
   "outputs": [],
   "source": [
    "# je change maintenant la taille des visualisations\n",
    "plt.figure(figsize=(12, 4));"
   ]
  },
  {
   "cell_type": "code",
   "execution_count": null,
   "metadata": {},
   "outputs": [],
   "source": [
    "interact(onderesultante2,A2=(0.5,2,0.5), phi2=(0, 2*np.pi,np.pi/10))"
   ]
  }
 ],
 "metadata": {
  "kernelspec": {
   "display_name": "Python 3",
   "language": "python",
   "name": "python3"
  },
  "language_info": {
   "codemirror_mode": {
    "name": "ipython",
    "version": 3
   },
   "file_extension": ".py",
   "mimetype": "text/x-python",
   "name": "python",
   "nbconvert_exporter": "python",
   "pygments_lexer": "ipython3",
   "version": "3.7.6"
  }
 },
 "nbformat": 4,
 "nbformat_minor": 4
}
