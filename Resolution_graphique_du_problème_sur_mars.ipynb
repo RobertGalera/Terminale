{
  "nbformat": 4,
  "nbformat_minor": 0,
  "metadata": {
    "kernelspec": {
      "display_name": "Python 3",
      "language": "python",
      "name": "python3"
    },
    "language_info": {
      "codemirror_mode": {
        "name": "ipython",
        "version": 3
      },
      "file_extension": ".py",
      "mimetype": "text/x-python",
      "name": "python",
      "nbconvert_exporter": "python",
      "pygments_lexer": "ipython3",
      "version": "3.7.6"
    },
    "colab": {
      "name": "Resolution graphique du problème sur mars.ipynb",
      "provenance": [],
      "include_colab_link": true
    }
  },
  "cells": [
    {
      "cell_type": "markdown",
      "metadata": {
        "id": "view-in-github",
        "colab_type": "text"
      },
      "source": [
        "<a href=\"https://colab.research.google.com/github/RobertGalera/Terminale/blob/master/Resolution_graphique_du_probl%C3%A8me_sur_mars.ipynb\" target=\"_parent\"><img src=\"https://colab.research.google.com/assets/colab-badge.svg\" alt=\"Open In Colab\"/></a>"
      ]
    },
    {
      "cell_type": "markdown",
      "metadata": {
        "id": "dPKSrFv-vmpC",
        "colab_type": "text"
      },
      "source": [
        "# Bac S Polynésie Septembre 2019 \n",
        "UN MICROPHONE SUR LA PLANÈTE MARS (5 POINTS)\n",
        ": résolution graphique\n"
      ]
    },
    {
      "cell_type": "markdown",
      "metadata": {
        "id": "wKfBPwTpvmpK",
        "colab_type": "text"
      },
      "source": [
        "\n",
        "L'agence spatiale américaine (NASA) enverra un nouveau rover sur Mars en 2020.\n",
        "Un instrument toulousain, SuperCam, sera embarqué à bord.\n",
        "\n",
        "SuperCam est un instrument d'analyse des roches et des sols autour du rover Mars 2020. Il utilise entre autre la technique d'analyse spectroscopique induite par ablation laser (LIBS). Son faisceau laser pulsé émet un rayonnement à 1067 nm délivrant environ 15 mJ pour une durée d'impulsion de 5 ns.\n",
        "Ce laser de puissance tire sur une cible, ce qui provoque la fusion du matériau et l'apparition d'un plasma que l'on détecte à distance en spectroscopie UV-visible.\n",
        "L'impact du laser génère également une forte onde de pression détectable par un microphone.\n",
        "Les mesures faites en laboratoire en conditions terrestres ont montré que la puissance sonore des impacts du laser vaut 1,3×10-2 W.\n",
        "% matplotlib inline"
      ]
    },
    {
      "cell_type": "code",
      "metadata": {
        "id": "OYqL8KwKvmpP",
        "colab_type": "code",
        "colab": {}
      },
      "source": [
        "%matplotlib inline\n",
        "import matplotlib.pyplot as plt\n",
        "import numpy as np\n",
        "\n",
        "#Conditions initiales\n",
        "P0 = 1.3E-2 # en whats\n",
        "rmin=0.5 #en m\n",
        "rmax = 5.\n",
        "alpha= 0.05\n",
        "I0= 1.0E-12\n",
        "def A(r) :\n",
        "    A= (-20*alpha*r)/np.log(10)-12\n",
        "    return(A)\n",
        "  \n",
        "def I(r) :\n",
        "    I= 10**(A(r)/10)*P0/(4*np.pi*(r**2))\n",
        "    return(I)\n",
        "  \n",
        "def L(I):\n",
        "    L= 10*np.log10( I/I0)\n",
        "    return L\n"
      ],
      "execution_count": 0,
      "outputs": []
    },
    {
      "cell_type": "code",
      "metadata": {
        "id": "9LEvXh2Fvmpp",
        "colab_type": "code",
        "outputId": "831950ff-336b-4cc3-b6fb-efa00119ecb3",
        "colab": {}
      },
      "source": [
        "#version en compréhension de liste\n",
        "r= np.arange(rmin,rmax,0.1)\n",
        "L_dB= [ (L(I(i))) for i in r]\n",
        "\n",
        "#Affichage des points\n",
        "plt.plot(r,L_dB,\"+b\")\n",
        "plt.grid()\n",
        "plt.title(\"niveau sonore en fonction de la distance\")\n",
        "#plt.ylim(0.,2.1)\n",
        "plt.ylabel(\"L(en dB)\")\n",
        "plt.xlabel(\"r en m\")\n",
        "plt.xticks([i for i in range(0,6)])\n",
        "plt.show()"
      ],
      "execution_count": 0,
      "outputs": [
        {
          "output_type": "display_data",
          "data": {
            "image/png": "[encoded data removed]",
            "text/plain": [
              "<Figure size 432x288 with 1 Axes>"
            ]
          },
          "metadata": {
            "tags": [],
            "needs_background": "light"
          }
        }
      ]
    },
    {
      "cell_type": "code",
      "metadata": {
        "id": "tWaV_v4gv9VM",
        "colab_type": "code",
        "colab": {}
      },
      "source": [
        ""
      ],
      "execution_count": 0,
      "outputs": []
    },
    {
      "cell_type": "code",
      "metadata": {
        "id": "LTJOPMGVvmqD",
        "colab_type": "code",
        "colab": {}
      },
      "source": [
        ""
      ],
      "execution_count": 0,
      "outputs": []
    }
  ]
}